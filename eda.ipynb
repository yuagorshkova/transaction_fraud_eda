{
 "cells": [
  {
   "cell_type": "code",
   "execution_count": null,
   "id": "8f75d606",
   "metadata": {},
   "outputs": [],
   "source": [
    "\n",
    "import pandas as pd\n",
    "import numpy as np\n",
    "\n",
    "import matplotlib.pyplot as plt\n",
    "import seaborn as sns"
   ]
  },
  {
   "cell_type": "code",
   "execution_count": 18,
   "id": "5d395704",
   "metadata": {},
   "outputs": [],
   "source": [
    "pd.set_option(\"display.max_rows\", 100)\n",
    "pd.set_option(\"display.max_columns\", 100)\n",
    "pd.set_option(\"display.max_colwidth\", 100)\n",
    "pd.set_option('display.float_format', lambda x: '%.2f' % x) "
   ]
  },
  {
   "cell_type": "code",
   "execution_count": 57,
   "id": "d884da8c",
   "metadata": {},
   "outputs": [
    {
     "name": "stdout",
     "output_type": "stream",
     "text": [
      "(7483766, 23)\n"
     ]
    },
    {
     "data": {
      "text/html": [
       "<div>\n",
       "<style scoped>\n",
       "    .dataframe tbody tr th:only-of-type {\n",
       "        vertical-align: middle;\n",
       "    }\n",
       "\n",
       "    .dataframe tbody tr th {\n",
       "        vertical-align: top;\n",
       "    }\n",
       "\n",
       "    .dataframe thead th {\n",
       "        text-align: right;\n",
       "    }\n",
       "</style>\n",
       "<table border=\"1\" class=\"dataframe\">\n",
       "  <thead>\n",
       "    <tr style=\"text-align: right;\">\n",
       "      <th></th>\n",
       "      <th>transaction_id</th>\n",
       "      <th>customer_id</th>\n",
       "      <th>card_number</th>\n",
       "      <th>timestamp</th>\n",
       "      <th>vendor_category</th>\n",
       "      <th>vendor_type</th>\n",
       "      <th>vendor</th>\n",
       "      <th>amount</th>\n",
       "      <th>currency</th>\n",
       "      <th>country</th>\n",
       "      <th>city</th>\n",
       "      <th>city_size</th>\n",
       "      <th>card_type</th>\n",
       "      <th>is_card_present</th>\n",
       "      <th>device</th>\n",
       "      <th>channel</th>\n",
       "      <th>device_fingerprint</th>\n",
       "      <th>ip_address</th>\n",
       "      <th>is_outside_home_country</th>\n",
       "      <th>is_high_risk_vendor</th>\n",
       "      <th>is_weekend</th>\n",
       "      <th>last_hour_activity</th>\n",
       "      <th>is_fraud</th>\n",
       "    </tr>\n",
       "  </thead>\n",
       "  <tbody>\n",
       "    <tr>\n",
       "      <th>0</th>\n",
       "      <td>TX_a0ad2a2a</td>\n",
       "      <td>CUST_72886</td>\n",
       "      <td>6646734767813109</td>\n",
       "      <td>2024-09-30 00:00:01.034820</td>\n",
       "      <td>Restaurant</td>\n",
       "      <td>fast_food</td>\n",
       "      <td>Taco Bell</td>\n",
       "      <td>294.87</td>\n",
       "      <td>GBP</td>\n",
       "      <td>UK</td>\n",
       "      <td>Unknown City</td>\n",
       "      <td>medium</td>\n",
       "      <td>Platinum Credit</td>\n",
       "      <td>False</td>\n",
       "      <td>iOS App</td>\n",
       "      <td>mobile</td>\n",
       "      <td>e8e6160445c935fd0001501e4cbac8bc</td>\n",
       "      <td>197.153.60.199</td>\n",
       "      <td>False</td>\n",
       "      <td>False</td>\n",
       "      <td>False</td>\n",
       "      <td>{'num_transactions': 1197, 'total_amount': 33498556.080464985, 'unique_merchants': 105, 'unique_...</td>\n",
       "      <td>False</td>\n",
       "    </tr>\n",
       "  </tbody>\n",
       "</table>\n",
       "</div>"
      ],
      "text/plain": [
       "  transaction_id customer_id       card_number                  timestamp  \\\n",
       "0    TX_a0ad2a2a  CUST_72886  6646734767813109 2024-09-30 00:00:01.034820   \n",
       "\n",
       "  vendor_category vendor_type     vendor  amount currency country  \\\n",
       "0      Restaurant   fast_food  Taco Bell  294.87      GBP      UK   \n",
       "\n",
       "           city city_size        card_type  is_card_present   device channel  \\\n",
       "0  Unknown City    medium  Platinum Credit            False  iOS App  mobile   \n",
       "\n",
       "                 device_fingerprint      ip_address  is_outside_home_country  \\\n",
       "0  e8e6160445c935fd0001501e4cbac8bc  197.153.60.199                    False   \n",
       "\n",
       "   is_high_risk_vendor  is_weekend  \\\n",
       "0                False       False   \n",
       "\n",
       "                                                                                    last_hour_activity  \\\n",
       "0  {'num_transactions': 1197, 'total_amount': 33498556.080464985, 'unique_merchants': 105, 'unique_...   \n",
       "\n",
       "   is_fraud  \n",
       "0     False  "
      ]
     },
     "execution_count": 57,
     "metadata": {},
     "output_type": "execute_result"
    }
   ],
   "source": [
    "df = pd.read_parquet(\"transaction_fraud_data.parquet\")\n",
    "print(df.shape)\n",
    "df.head(1)\n"
   ]
  },
  {
   "cell_type": "markdown",
   "id": "543df9b3",
   "metadata": {},
   "source": [
    "# EDA"
   ]
  },
  {
   "cell_type": "code",
   "execution_count": 5,
   "id": "52ed8f4a",
   "metadata": {},
   "outputs": [
    {
     "data": {
      "text/plain": [
       "Index(['transaction_id', 'customer_id', 'card_number', 'timestamp',\n",
       "       'vendor_category', 'vendor_type', 'vendor', 'amount', 'currency',\n",
       "       'country', 'city', 'city_size', 'card_type', 'is_card_present',\n",
       "       'device', 'channel', 'device_fingerprint', 'ip_address',\n",
       "       'is_outside_home_country', 'is_high_risk_vendor', 'is_weekend',\n",
       "       'last_hour_activity', 'is_fraud'],\n",
       "      dtype='object')"
      ]
     },
     "execution_count": 5,
     "metadata": {},
     "output_type": "execute_result"
    }
   ],
   "source": [
    "df.columns"
   ]
  },
  {
   "cell_type": "code",
   "execution_count": 6,
   "id": "ec615d22",
   "metadata": {},
   "outputs": [
    {
     "data": {
      "text/html": [
       "<div>\n",
       "<style scoped>\n",
       "    .dataframe tbody tr th:only-of-type {\n",
       "        vertical-align: middle;\n",
       "    }\n",
       "\n",
       "    .dataframe tbody tr th {\n",
       "        vertical-align: top;\n",
       "    }\n",
       "\n",
       "    .dataframe thead th {\n",
       "        text-align: right;\n",
       "    }\n",
       "</style>\n",
       "<table border=\"1\" class=\"dataframe\">\n",
       "  <thead>\n",
       "    <tr style=\"text-align: right;\">\n",
       "      <th></th>\n",
       "      <th>transaction_id</th>\n",
       "      <th>customer_id</th>\n",
       "      <th>card_number</th>\n",
       "      <th>timestamp</th>\n",
       "      <th>vendor_category</th>\n",
       "      <th>vendor_type</th>\n",
       "      <th>vendor</th>\n",
       "      <th>amount</th>\n",
       "      <th>currency</th>\n",
       "      <th>country</th>\n",
       "      <th>city</th>\n",
       "      <th>city_size</th>\n",
       "      <th>card_type</th>\n",
       "      <th>is_card_present</th>\n",
       "      <th>device</th>\n",
       "      <th>channel</th>\n",
       "      <th>device_fingerprint</th>\n",
       "      <th>ip_address</th>\n",
       "      <th>is_outside_home_country</th>\n",
       "      <th>is_high_risk_vendor</th>\n",
       "      <th>is_weekend</th>\n",
       "      <th>last_hour_activity</th>\n",
       "      <th>is_fraud</th>\n",
       "    </tr>\n",
       "  </thead>\n",
       "  <tbody>\n",
       "    <tr>\n",
       "      <th>0</th>\n",
       "      <td>TX_a0ad2a2a</td>\n",
       "      <td>CUST_72886</td>\n",
       "      <td>6646734767813109</td>\n",
       "      <td>2024-09-30 00:00:01.034820</td>\n",
       "      <td>Restaurant</td>\n",
       "      <td>fast_food</td>\n",
       "      <td>Taco Bell</td>\n",
       "      <td>294.87</td>\n",
       "      <td>GBP</td>\n",
       "      <td>UK</td>\n",
       "      <td>Unknown City</td>\n",
       "      <td>medium</td>\n",
       "      <td>Platinum Credit</td>\n",
       "      <td>False</td>\n",
       "      <td>iOS App</td>\n",
       "      <td>mobile</td>\n",
       "      <td>e8e6160445c935fd0001501e4cbac8bc</td>\n",
       "      <td>197.153.60.199</td>\n",
       "      <td>False</td>\n",
       "      <td>False</td>\n",
       "      <td>False</td>\n",
       "      <td>{'num_transactions': 1197, 'total_amount': 33498556.080464985, 'unique_merchants': 105, 'unique_...</td>\n",
       "      <td>False</td>\n",
       "    </tr>\n",
       "  </tbody>\n",
       "</table>\n",
       "</div>"
      ],
      "text/plain": [
       "  transaction_id customer_id       card_number                  timestamp  \\\n",
       "0    TX_a0ad2a2a  CUST_72886  6646734767813109 2024-09-30 00:00:01.034820   \n",
       "\n",
       "  vendor_category vendor_type     vendor  amount currency country  \\\n",
       "0      Restaurant   fast_food  Taco Bell  294.87      GBP      UK   \n",
       "\n",
       "           city city_size        card_type  is_card_present   device channel  \\\n",
       "0  Unknown City    medium  Platinum Credit            False  iOS App  mobile   \n",
       "\n",
       "                 device_fingerprint      ip_address  is_outside_home_country  \\\n",
       "0  e8e6160445c935fd0001501e4cbac8bc  197.153.60.199                    False   \n",
       "\n",
       "   is_high_risk_vendor  is_weekend  \\\n",
       "0                False       False   \n",
       "\n",
       "                                                                                    last_hour_activity  \\\n",
       "0  {'num_transactions': 1197, 'total_amount': 33498556.080464985, 'unique_merchants': 105, 'unique_...   \n",
       "\n",
       "   is_fraud  \n",
       "0     False  "
      ]
     },
     "execution_count": 6,
     "metadata": {},
     "output_type": "execute_result"
    }
   ],
   "source": [
    "df.head(1)"
   ]
  },
  {
   "cell_type": "code",
   "execution_count": 7,
   "id": "ac101715",
   "metadata": {},
   "outputs": [
    {
     "data": {
      "text/html": [
       "<div>\n",
       "<style scoped>\n",
       "    .dataframe tbody tr th:only-of-type {\n",
       "        vertical-align: middle;\n",
       "    }\n",
       "\n",
       "    .dataframe tbody tr th {\n",
       "        vertical-align: top;\n",
       "    }\n",
       "\n",
       "    .dataframe thead th {\n",
       "        text-align: right;\n",
       "    }\n",
       "</style>\n",
       "<table border=\"1\" class=\"dataframe\">\n",
       "  <thead>\n",
       "    <tr style=\"text-align: right;\">\n",
       "      <th></th>\n",
       "      <th>transaction_id</th>\n",
       "      <th>customer_id</th>\n",
       "      <th>card_number</th>\n",
       "      <th>timestamp</th>\n",
       "      <th>vendor_category</th>\n",
       "      <th>vendor_type</th>\n",
       "      <th>vendor</th>\n",
       "      <th>amount</th>\n",
       "      <th>currency</th>\n",
       "      <th>country</th>\n",
       "      <th>city</th>\n",
       "      <th>city_size</th>\n",
       "      <th>card_type</th>\n",
       "      <th>is_card_present</th>\n",
       "      <th>device</th>\n",
       "      <th>channel</th>\n",
       "      <th>device_fingerprint</th>\n",
       "      <th>ip_address</th>\n",
       "      <th>is_outside_home_country</th>\n",
       "      <th>is_high_risk_vendor</th>\n",
       "      <th>is_weekend</th>\n",
       "      <th>last_hour_activity</th>\n",
       "      <th>is_fraud</th>\n",
       "      <th>date</th>\n",
       "      <th>value</th>\n",
       "      <th>in_usd</th>\n",
       "    </tr>\n",
       "  </thead>\n",
       "  <tbody>\n",
       "    <tr>\n",
       "      <th>1048397</th>\n",
       "      <td>TX_f8a8fe97</td>\n",
       "      <td>CUST_25565</td>\n",
       "      <td>375568548479792</td>\n",
       "      <td>2024-10-04 09:25:46.169014</td>\n",
       "      <td>Grocery</td>\n",
       "      <td>physical</td>\n",
       "      <td>Publix</td>\n",
       "      <td>378.83</td>\n",
       "      <td>USD</td>\n",
       "      <td>USA</td>\n",
       "      <td>San Diego</td>\n",
       "      <td>medium</td>\n",
       "      <td>Premium Debit</td>\n",
       "      <td>False</td>\n",
       "      <td>Chrome</td>\n",
       "      <td>web</td>\n",
       "      <td>60cca50625ae275d296f7c57d22067b3</td>\n",
       "      <td>60.228.252.210</td>\n",
       "      <td>False</td>\n",
       "      <td>False</td>\n",
       "      <td>False</td>\n",
       "      <td>{'num_transactions': 666, 'total_amount': 19738766.158431955, 'unique_merchants': 105, 'unique_c...</td>\n",
       "      <td>False</td>\n",
       "      <td>2024-10-04</td>\n",
       "      <td>1.000000</td>\n",
       "      <td>378.830000</td>\n",
       "    </tr>\n",
       "    <tr>\n",
       "      <th>4273439</th>\n",
       "      <td>TX_e23b8345</td>\n",
       "      <td>CUST_95847</td>\n",
       "      <td>6106202375904044</td>\n",
       "      <td>2024-10-17 17:18:39.450996</td>\n",
       "      <td>Grocery</td>\n",
       "      <td>physical</td>\n",
       "      <td>Trader Joe's</td>\n",
       "      <td>125.77</td>\n",
       "      <td>CAD</td>\n",
       "      <td>Canada</td>\n",
       "      <td>Unknown City</td>\n",
       "      <td>medium</td>\n",
       "      <td>Basic Credit</td>\n",
       "      <td>False</td>\n",
       "      <td>Safari</td>\n",
       "      <td>web</td>\n",
       "      <td>01f278501855b8755fcd5ba8de701519</td>\n",
       "      <td>211.114.42.225</td>\n",
       "      <td>False</td>\n",
       "      <td>False</td>\n",
       "      <td>False</td>\n",
       "      <td>{'num_transactions': 221, 'total_amount': 5503001.208405631, 'unique_merchants': 92, 'unique_cou...</td>\n",
       "      <td>False</td>\n",
       "      <td>2024-10-17</td>\n",
       "      <td>1.375184</td>\n",
       "      <td>91.456824</td>\n",
       "    </tr>\n",
       "  </tbody>\n",
       "</table>\n",
       "</div>"
      ],
      "text/plain": [
       "        transaction_id customer_id       card_number  \\\n",
       "1048397    TX_f8a8fe97  CUST_25565   375568548479792   \n",
       "4273439    TX_e23b8345  CUST_95847  6106202375904044   \n",
       "\n",
       "                         timestamp vendor_category vendor_type        vendor  \\\n",
       "1048397 2024-10-04 09:25:46.169014         Grocery    physical        Publix   \n",
       "4273439 2024-10-17 17:18:39.450996         Grocery    physical  Trader Joe's   \n",
       "\n",
       "         amount currency country          city city_size      card_type  \\\n",
       "1048397  378.83      USD     USA     San Diego    medium  Premium Debit   \n",
       "4273439  125.77      CAD  Canada  Unknown City    medium   Basic Credit   \n",
       "\n",
       "         is_card_present  device channel                device_fingerprint  \\\n",
       "1048397            False  Chrome     web  60cca50625ae275d296f7c57d22067b3   \n",
       "4273439            False  Safari     web  01f278501855b8755fcd5ba8de701519   \n",
       "\n",
       "             ip_address  is_outside_home_country  is_high_risk_vendor  \\\n",
       "1048397  60.228.252.210                    False                False   \n",
       "4273439  211.114.42.225                    False                False   \n",
       "\n",
       "         is_weekend  \\\n",
       "1048397       False   \n",
       "4273439       False   \n",
       "\n",
       "                                                                                          last_hour_activity  \\\n",
       "1048397  {'num_transactions': 666, 'total_amount': 19738766.158431955, 'unique_merchants': 105, 'unique_c...   \n",
       "4273439  {'num_transactions': 221, 'total_amount': 5503001.208405631, 'unique_merchants': 92, 'unique_cou...   \n",
       "\n",
       "         is_fraud        date     value      in_usd  \n",
       "1048397     False  2024-10-04  1.000000  378.830000  \n",
       "4273439     False  2024-10-17  1.375184   91.456824  "
      ]
     },
     "execution_count": 7,
     "metadata": {},
     "output_type": "execute_result"
    }
   ],
   "source": [
    "cur_exc = pd.read_parquet(\"historical_currency_exchange.parquet\")\n",
    "cur_exc = cur_exc.melt(id_vars=\"date\", var_name=\"currency\")\n",
    "\n",
    "df[\"date\"] = df.timestamp.dt.date\n",
    "df = df.merge(\n",
    "    cur_exc,\n",
    "    how=\"left\",\n",
    "    on=[\"date\", \"currency\"],\n",
    ")\n",
    "df[\"in_usd\"] = df.amount / df.value\n",
    "df.sample(2)"
   ]
  },
  {
   "cell_type": "markdown",
   "id": "047c654a",
   "metadata": {},
   "source": [
    "## Гипотеза 1: некоторые комбинации device x channel\n",
    "Некоторые устройства и каналы легче джейлбрейкнуть, подменить ip и так далее\n",
    "\n",
    "Вывод: сначала казалось, что подтвердилась – для некоторых комбо fraud rate был 1. Но теперь кажется, что может быть какая-то ошибка в данных, потому что все операции с  POS отнесены к мошенническим. Я бы задала этот вопрос коллегам, предоставившим данные."
   ]
  },
  {
   "cell_type": "code",
   "execution_count": 8,
   "id": "d3e477d0",
   "metadata": {},
   "outputs": [
    {
     "data": {
      "text/plain": [
       "channel\n",
       "web       4563141\n",
       "mobile    2269578\n",
       "pos        651047\n",
       "Name: count, dtype: int64"
      ]
     },
     "execution_count": 8,
     "metadata": {},
     "output_type": "execute_result"
    }
   ],
   "source": [
    "df.channel.value_counts()"
   ]
  },
  {
   "cell_type": "code",
   "execution_count": 9,
   "id": "79db6333",
   "metadata": {},
   "outputs": [
    {
     "data": {
      "text/plain": [
       "is_fraud\n",
       "True    651047\n",
       "Name: count, dtype: int64"
      ]
     },
     "execution_count": 9,
     "metadata": {},
     "output_type": "execute_result"
    }
   ],
   "source": [
    "df[df.channel==\"pos\"].is_fraud.value_counts()"
   ]
  },
  {
   "cell_type": "code",
   "execution_count": 10,
   "id": "4c6a90bc",
   "metadata": {},
   "outputs": [
    {
     "name": "stdout",
     "output_type": "stream",
     "text": [
      "  channel           device  total_transactions  fraud_transactions  fraud_rate\n",
      "0     pos      Chip Reader              217324              217324    1.000000\n",
      "1     pos  Magnetic Stripe              217204              217204    1.000000\n",
      "2     pos      NFC Payment              216519              216519    1.000000\n",
      "3     web          Firefox             1120952              142171    0.126831\n",
      "4     web           Safari             1120245              141379    0.126204\n",
      "5  mobile      Android App             1126117              140844    0.125070\n",
      "6  mobile          iOS App             1143461              140306    0.122703\n",
      "7     web           Chrome             1132384              140087    0.123710\n",
      "8     web             Edge             1189560              138885    0.116753\n"
     ]
    },
    {
     "data": {
      "image/png": "[encoded data removed]",
      "text/plain": [
       "<Figure size 1000x600 with 1 Axes>"
      ]
     },
     "metadata": {},
     "output_type": "display_data"
    }
   ],
   "source": [
    "channel_device_df = (\n",
    "    df.groupby([\"channel\", \"device\"])\n",
    "    .agg(\n",
    "        total_transactions=(\"is_fraud\", \"size\"),\n",
    "        fraud_transactions=(\"is_fraud\", \"sum\"),\n",
    "        fraud_rate=(\"is_fraud\", \"mean\")\n",
    "    )\n",
    "    .sort_values(\"fraud_transactions\", ascending=False)\n",
    "    .reset_index()\n",
    ")\n",
    "\n",
    "\n",
    "print(channel_device_df.head(10))\n",
    "\n",
    "\n",
    "top_10 = channel_device_df.head(10)\n",
    "plt.figure(figsize=(10, 6))\n",
    "plt.barh(\n",
    "    width=top_10[\"fraud_rate\"],\n",
    "    y=top_10[\"channel\"] + \" + \" + top_10[\"device\"]\n",
    ")\n",
    "plt.title(\"Топ-10 рискованных комбинаций канала и устройства\")\n",
    "plt.xlabel(\"Доля мошеннических транзакций\")\n",
    "plt.ylabel(\"Канал + Устройство\")\n",
    "plt.tight_layout()\n",
    "plt.show()"
   ]
  },
  {
   "cell_type": "markdown",
   "id": "ffe913ac",
   "metadata": {},
   "source": [
    "Посмотрим без pos. Тут гипотеза не подтверждается."
   ]
  },
  {
   "cell_type": "code",
   "execution_count": 11,
   "id": "ddcb3f8b",
   "metadata": {},
   "outputs": [
    {
     "name": "stdout",
     "output_type": "stream",
     "text": [
      "  channel       device  total_transactions  fraud_transactions  fraud_rate\n",
      "0     web      Firefox             1120952              142171    0.126831\n",
      "1     web       Safari             1120245              141379    0.126204\n",
      "2  mobile  Android App             1126117              140844    0.125070\n",
      "3  mobile      iOS App             1143461              140306    0.122703\n",
      "4     web       Chrome             1132384              140087    0.123710\n",
      "5     web         Edge             1189560              138885    0.116753\n"
     ]
    },
    {
     "data": {
      "image/png": "[encoded data removed]",
      "text/plain": [
       "<Figure size 1000x600 with 1 Axes>"
      ]
     },
     "metadata": {},
     "output_type": "display_data"
    }
   ],
   "source": [
    "channel_device_df = (\n",
    "    df[df.channel != \"pos\"].groupby([\"channel\", \"device\"])\n",
    "    .agg(\n",
    "        total_transactions=(\"is_fraud\", \"size\"),\n",
    "        fraud_transactions=(\"is_fraud\", \"sum\"),\n",
    "        fraud_rate=(\"is_fraud\", \"mean\")\n",
    "    )\n",
    "    .sort_values(\"fraud_transactions\", ascending=False)\n",
    "    .reset_index()\n",
    ")\n",
    "\n",
    "\n",
    "print(channel_device_df.head(10))\n",
    "\n",
    "\n",
    "top_10 = channel_device_df.head(10)\n",
    "plt.figure(figsize=(10, 6))\n",
    "plt.barh(\n",
    "    width=top_10[\"fraud_rate\"],\n",
    "    y=top_10[\"channel\"] + \" + \" + top_10[\"device\"]\n",
    ")\n",
    "plt.title(\"Топ-10 рискованных комбинаций канала и устройства\")\n",
    "plt.xlabel(\"Доля мошеннических транзакций\")\n",
    "plt.ylabel(\"Канал + Устройство\")\n",
    "plt.tight_layout()\n",
    "plt.show()"
   ]
  },
  {
   "cell_type": "code",
   "execution_count": null,
   "id": "247cf6c1",
   "metadata": {},
   "outputs": [],
   "source": []
  },
  {
   "cell_type": "markdown",
   "id": "a0577ad0",
   "metadata": {},
   "source": [
    "## Гипотеза 2: всплеск акктивности\n",
    "1) если подтвердится, позволит быстрее обнураживать такую активность в рилтайме\n",
    "2) если пошло слишком много последовательных операций, и у слишком многих вендоров – кто-то хочет поскорее потратить побольше денег, пока его не отследили\n",
    "\n",
    "Вывод: при грубом анализе не подтвердилась\n"
   ]
  },
  {
   "cell_type": "code",
   "execution_count": 49,
   "id": "7617b59f",
   "metadata": {},
   "outputs": [
    {
     "data": {
      "text/html": [
       "<div>\n",
       "<style scoped>\n",
       "    .dataframe tbody tr th:only-of-type {\n",
       "        vertical-align: middle;\n",
       "    }\n",
       "\n",
       "    .dataframe tbody tr th {\n",
       "        vertical-align: top;\n",
       "    }\n",
       "\n",
       "    .dataframe thead th {\n",
       "        text-align: right;\n",
       "    }\n",
       "</style>\n",
       "<table border=\"1\" class=\"dataframe\">\n",
       "  <thead>\n",
       "    <tr style=\"text-align: right;\">\n",
       "      <th></th>\n",
       "      <th>fraud_mean</th>\n",
       "      <th>legit_mean</th>\n",
       "      <th>ratio</th>\n",
       "    </tr>\n",
       "  </thead>\n",
       "  <tbody>\n",
       "    <tr>\n",
       "      <th>last_hour_num_transactions</th>\n",
       "      <td>412.67</td>\n",
       "      <td>408.26</td>\n",
       "      <td>1.01</td>\n",
       "    </tr>\n",
       "    <tr>\n",
       "      <th>last_hour_total_amount</th>\n",
       "      <td>20154995.52</td>\n",
       "      <td>19857837.34</td>\n",
       "      <td>1.01</td>\n",
       "    </tr>\n",
       "    <tr>\n",
       "      <th>last_hour_unique_merchants</th>\n",
       "      <td>80.45</td>\n",
       "      <td>79.92</td>\n",
       "      <td>1.01</td>\n",
       "    </tr>\n",
       "    <tr>\n",
       "      <th>last_hour_unique_countries</th>\n",
       "      <td>10.71</td>\n",
       "      <td>10.65</td>\n",
       "      <td>1.01</td>\n",
       "    </tr>\n",
       "    <tr>\n",
       "      <th>last_hour_max_single_amount</th>\n",
       "      <td>1752255.49</td>\n",
       "      <td>1719986.75</td>\n",
       "      <td>1.02</td>\n",
       "    </tr>\n",
       "  </tbody>\n",
       "</table>\n",
       "</div>"
      ],
      "text/plain": [
       "                             fraud_mean  legit_mean  ratio\n",
       "last_hour_num_transactions       412.67      408.26   1.01\n",
       "last_hour_total_amount      20154995.52 19857837.34   1.01\n",
       "last_hour_unique_merchants        80.45       79.92   1.01\n",
       "last_hour_unique_countries        10.71       10.65   1.01\n",
       "last_hour_max_single_amount  1752255.49  1719986.75   1.02"
      ]
     },
     "execution_count": 49,
     "metadata": {},
     "output_type": "execute_result"
    }
   ],
   "source": [
    "if not \"last_hour_num_transactions\" in df.columns:\n",
    "    activity_features = pd.json_normalize(df[\"last_hour_activity\"]).add_prefix(\"last_hour_\")\n",
    "    df = pd.concat([df, activity_features], axis=1)\n",
    "\n",
    "activity_metrics = [\n",
    "    \"last_hour_num_transactions\",\n",
    "    \"last_hour_total_amount\", \n",
    "    \"last_hour_unique_merchants\",\n",
    "    \"last_hour_unique_countries\",\n",
    "    \"last_hour_max_single_amount\"\n",
    "]\n",
    "\n",
    "\n",
    "fraud_activity = df[df[\"is_fraud\"]][activity_metrics].mean()\n",
    "legit_activity = df[~df[\"is_fraud\"]][activity_metrics].mean()\n",
    "\n",
    "activity_comparison = pd.DataFrame({\n",
    "    \"fraud_mean\": fraud_activity,\n",
    "    \"legit_mean\": legit_activity,\n",
    "    \"ratio\": fraud_activity / legit_activity\n",
    "})\n",
    "activity_comparison"
   ]
  },
  {
   "cell_type": "code",
   "execution_count": 35,
   "id": "62f73597",
   "metadata": {},
   "outputs": [
    {
     "name": "stdout",
     "output_type": "stream",
     "text": [
      "Средние отношения показателей за час к обычной активности:\n",
      "avg_amount_ratio     5.32\n",
      "max_amount_ratio   291.58\n",
      "dtype: float64\n",
      "\n",
      "Топ-5 самых аномальных операций по количеству транзакций:\n"
     ]
    },
    {
     "data": {
      "text/html": [
       "<div>\n",
       "<style scoped>\n",
       "    .dataframe tbody tr th:only-of-type {\n",
       "        vertical-align: middle;\n",
       "    }\n",
       "\n",
       "    .dataframe tbody tr th {\n",
       "        vertical-align: top;\n",
       "    }\n",
       "\n",
       "    .dataframe thead th {\n",
       "        text-align: right;\n",
       "    }\n",
       "</style>\n",
       "<table border=\"1\" class=\"dataframe\">\n",
       "  <thead>\n",
       "    <tr style=\"text-align: right;\">\n",
       "      <th></th>\n",
       "      <th>customer_id</th>\n",
       "      <th>avg_amount</th>\n",
       "      <th>median_amount</th>\n",
       "      <th>daily_tx_count</th>\n",
       "      <th>last_hour_num_transactions</th>\n",
       "      <th>last_hour_total_amount</th>\n",
       "      <th>last_hour_unique_merchants</th>\n",
       "      <th>last_hour_avg_amount</th>\n",
       "      <th>last_hour_max_single_amount</th>\n",
       "      <th>avg_amount_ratio</th>\n",
       "      <th>max_amount_ratio</th>\n",
       "      <th>tx_count_ratio</th>\n",
       "    </tr>\n",
       "  </thead>\n",
       "  <tbody>\n",
       "    <tr>\n",
       "      <th>6363</th>\n",
       "      <td>CUST_52904</td>\n",
       "      <td>1886.49</td>\n",
       "      <td>342.73</td>\n",
       "      <td>1269</td>\n",
       "      <td>1585</td>\n",
       "      <td>36981355.52</td>\n",
       "      <td>105</td>\n",
       "      <td>23332.09</td>\n",
       "      <td>1909973.25</td>\n",
       "      <td>12.37</td>\n",
       "      <td>1012.45</td>\n",
       "      <td>1.25</td>\n",
       "    </tr>\n",
       "    <tr>\n",
       "      <th>5420</th>\n",
       "      <td>CUST_52012</td>\n",
       "      <td>3336.78</td>\n",
       "      <td>205.40</td>\n",
       "      <td>1004</td>\n",
       "      <td>1254</td>\n",
       "      <td>28604781.38</td>\n",
       "      <td>105</td>\n",
       "      <td>22810.83</td>\n",
       "      <td>1340536.26</td>\n",
       "      <td>6.84</td>\n",
       "      <td>401.75</td>\n",
       "      <td>1.25</td>\n",
       "    </tr>\n",
       "    <tr>\n",
       "      <th>9826</th>\n",
       "      <td>CUST_60039</td>\n",
       "      <td>4713.68</td>\n",
       "      <td>391.34</td>\n",
       "      <td>1488</td>\n",
       "      <td>1858</td>\n",
       "      <td>58399368.46</td>\n",
       "      <td>105</td>\n",
       "      <td>31431.31</td>\n",
       "      <td>3119503.86</td>\n",
       "      <td>6.67</td>\n",
       "      <td>661.80</td>\n",
       "      <td>1.25</td>\n",
       "    </tr>\n",
       "    <tr>\n",
       "      <th>20258</th>\n",
       "      <td>CUST_89947</td>\n",
       "      <td>36385.55</td>\n",
       "      <td>29848.62</td>\n",
       "      <td>913</td>\n",
       "      <td>1140</td>\n",
       "      <td>67524227.29</td>\n",
       "      <td>105</td>\n",
       "      <td>59231.78</td>\n",
       "      <td>4045334.85</td>\n",
       "      <td>1.63</td>\n",
       "      <td>111.18</td>\n",
       "      <td>1.25</td>\n",
       "    </tr>\n",
       "    <tr>\n",
       "      <th>890</th>\n",
       "      <td>CUST_26373</td>\n",
       "      <td>12209.27</td>\n",
       "      <td>1539.30</td>\n",
       "      <td>1263</td>\n",
       "      <td>1577</td>\n",
       "      <td>56612416.61</td>\n",
       "      <td>105</td>\n",
       "      <td>35898.81</td>\n",
       "      <td>2004534.20</td>\n",
       "      <td>2.94</td>\n",
       "      <td>164.18</td>\n",
       "      <td>1.25</td>\n",
       "    </tr>\n",
       "  </tbody>\n",
       "</table>\n",
       "</div>"
      ],
      "text/plain": [
       "      customer_id  avg_amount  median_amount  daily_tx_count  \\\n",
       "6363   CUST_52904     1886.49         342.73            1269   \n",
       "5420   CUST_52012     3336.78         205.40            1004   \n",
       "9826   CUST_60039     4713.68         391.34            1488   \n",
       "20258  CUST_89947    36385.55       29848.62             913   \n",
       "890    CUST_26373    12209.27        1539.30            1263   \n",
       "\n",
       "       last_hour_num_transactions  last_hour_total_amount  \\\n",
       "6363                         1585             36981355.52   \n",
       "5420                         1254             28604781.38   \n",
       "9826                         1858             58399368.46   \n",
       "20258                        1140             67524227.29   \n",
       "890                          1577             56612416.61   \n",
       "\n",
       "       last_hour_unique_merchants  last_hour_avg_amount  \\\n",
       "6363                          105              23332.09   \n",
       "5420                          105              22810.83   \n",
       "9826                          105              31431.31   \n",
       "20258                         105              59231.78   \n",
       "890                           105              35898.81   \n",
       "\n",
       "       last_hour_max_single_amount  avg_amount_ratio  max_amount_ratio  \\\n",
       "6363                    1909973.25             12.37           1012.45   \n",
       "5420                    1340536.26              6.84            401.75   \n",
       "9826                    3119503.86              6.67            661.80   \n",
       "20258                   4045334.85              1.63            111.18   \n",
       "890                     2004534.20              2.94            164.18   \n",
       "\n",
       "       tx_count_ratio  \n",
       "6363             1.25  \n",
       "5420             1.25  \n",
       "9826             1.25  \n",
       "20258            1.25  \n",
       "890              1.25  "
      ]
     },
     "execution_count": 35,
     "metadata": {},
     "output_type": "execute_result"
    }
   ],
   "source": [
    "user_normal_activity = (\n",
    "    df[~df[\"is_fraud\"]]\n",
    "    .groupby(\"customer_id\")\n",
    "    .agg(\n",
    "        avg_amount=(\"amount\", \"mean\"),\n",
    "        median_amount=(\"amount\", \"median\"),\n",
    "        daily_tx_count=(\"transaction_id\", \"count\")\n",
    "    )\n",
    "    .reset_index()\n",
    ")\n",
    "df_ = df.merge(user_normal_activity, on=\"customer_id\", how=\"left\")\n",
    "df_[\"last_hour_avg_amount\"] = (df_[\"last_hour_total_amount\"] / df_[\"last_hour_num_transactions\"]).replace([np.inf, -np.inf], 0)\n",
    "\n",
    "comparison = df_[df_[\"is_fraud\"]][[\n",
    "    \"customer_id\",\n",
    "    \"avg_amount\",\n",
    "    \"median_amount\",\n",
    "    \"daily_tx_count\",\n",
    "    \"last_hour_num_transactions\",\n",
    "    \"last_hour_total_amount\",\n",
    "    \"last_hour_unique_merchants\",\n",
    "    \"last_hour_avg_amount\",\n",
    "    \"last_hour_max_single_amount\"\n",
    "\n",
    "]].copy()\n",
    "\n",
    "comparison[\"avg_amount_ratio\"] = comparison[\"last_hour_avg_amount\"] / comparison[\"avg_amount\"]\n",
    "comparison[\"max_amount_ratio\"] = comparison[\"last_hour_max_single_amount\"] / comparison[\"avg_amount\"]\n",
    "comparison[\"tx_count_ratio\"] = comparison[\"last_hour_num_transactions\"] / comparison[\"daily_tx_count\"]\n",
    "\n",
    "\n",
    "print(\"Средние отношения показателей за час к обычной активности:\")\n",
    "print(comparison[[\"avg_amount_ratio\", \"max_amount_ratio\"]].mean())\n",
    "\n",
    "print(\"\\nТоп-5 самых аномальных операций по количеству транзакций:\")\n",
    "comparison.sort_values(\"tx_count_ratio\", ascending=False).head(5)"
   ]
  },
  {
   "cell_type": "code",
   "execution_count": null,
   "id": "a1c27466",
   "metadata": {},
   "outputs": [
    {
     "data": {
      "image/png": "[encoded data removed]",
      "text/plain": [
       "<Figure size 1000x600 with 1 Axes>"
      ]
     },
     "metadata": {},
     "output_type": "display_data"
    }
   ],
   "source": [
    "df_[\"tx_count_ratio\"] = df_[\"last_hour_num_transactions\"] / df_[\"daily_tx_count\"]\n",
    "\n",
    "plt.figure(figsize=(10, 6))\n",
    "sns.boxplot(x=\"is_fraud\", y=\"tx_count_ratio\", data=df_) # выбросы\n",
    "plt.title(\"Распределение отношения операций за час к дневной норме\")\n",
    "plt.xlabel(\"Мошенническая операция\")\n",
    "plt.ylabel(\"Отношение (операции за последний час / день)\")\n",
    "plt.show()"
   ]
  },
  {
   "cell_type": "markdown",
   "id": "c2a44aab",
   "metadata": {},
   "source": [
    "## Гипотеза 3: день недели и время суток\n",
    "\n",
    "Идея в том, что поведение людей в разное время различается – на выходных, например, они могут становиться менее бдительны\n",
    "\n",
    "Вывод: подтвердилась, но не про выходные, а про ночное время. C 1 ночи до 5 утра отношение мошеннических операций ко всем максимальное."
   ]
  },
  {
   "cell_type": "code",
   "execution_count": 51,
   "id": "f2d91a90",
   "metadata": {},
   "outputs": [
    {
     "name": "stderr",
     "output_type": "stream",
     "text": [
      "/var/folders/3w/r7v1f_z53p50ccf_m5x4mdgm0000gn/T/ipykernel_18992/1978364125.py:10: FutureWarning: The default of observed=False is deprecated and will be changed to True in a future version of pandas. Pass observed=False to retain current behavior or observed=True to adopt the future default and silence this warning.\n",
      "  df.groupby([\"day_of_week\", \"time_of_day\"])[\"is_fraud\"]\n"
     ]
    },
    {
     "data": {
      "image/png": "[encoded data removed]",
      "text/plain": [
       "<Figure size 1000x600 with 2 Axes>"
      ]
     },
     "metadata": {},
     "output_type": "display_data"
    }
   ],
   "source": [
    "df[\"day_of_week\"] = df[\"timestamp\"].dt.day_name()\n",
    "df[\"time_of_day\"] = pd.cut(\n",
    "    df[\"timestamp\"].dt.hour,\n",
    "    bins=[0, 6, 12, 18, 24],\n",
    "    labels=[\"Ночь (0-6)\", \"Утро (6-12)\", \"День (12-18)\", \"Вечер (18-24)\"]\n",
    ")\n",
    "\n",
    "\n",
    "fraud_rate = (\n",
    "    df.groupby([\"day_of_week\", \"time_of_day\"])[\"is_fraud\"]\n",
    "    .mean()\n",
    "    .unstack()\n",
    "    .reindex([\"Monday\", \"Tuesday\", \"Wednesday\", \"Thursday\", \"Friday\", \"Saturday\", \"Sunday\"])\n",
    ")\n",
    "\n",
    "plt.figure(figsize=(10, 6))\n",
    "sns.heatmap(\n",
    "    fraud_rate * 100, annot=True, fmt=\".2f\", cmap=\"YlOrRd\", \n",
    "    cbar_kws={\"label\": \"Доля мошенничества, %\"}\n",
    ")\n",
    "plt.title(\"Уровень мошенничества по дням недели и времени суток\")\n",
    "plt.tight_layout()\n",
    "plt.show()"
   ]
  },
  {
   "cell_type": "code",
   "execution_count": 55,
   "id": "cf181ab7",
   "metadata": {},
   "outputs": [
    {
     "data": {
      "image/png": "[encoded data removed]",
      "text/plain": [
       "<Figure size 1200x600 with 1 Axes>"
      ]
     },
     "metadata": {},
     "output_type": "display_data"
    }
   ],
   "source": [
    "df[\"hour\"] = df[\"timestamp\"].dt.hour\n",
    "by_hour = df.groupby(\"hour\")[\"is_fraud\"].agg(\n",
    "    total_tx=\"size\",\n",
    "    fraud_tx=\"sum\"\n",
    ").reset_index()\n",
    "\n",
    "plt.figure(figsize=(12, 6))\n",
    "plt.bar(by_hour[\"hour\"], by_hour[\"total_tx\"], \n",
    "        color=\"lightgreen\", label=\"Все операции\")\n",
    "plt.bar(by_hour[\"hour\"], by_hour[\"fraud_tx\"], \n",
    "        color=\"red\", label=\"Мошеннические операции\")\n",
    "plt.xlabel(\"Час дня\")\n",
    "plt.ylabel(\"Количество операций\")\n",
    "plt.title(\"Распределение операций по часам\")\n",
    "plt.xticks(range(24))\n",
    "plt.legend()\n",
    "plt.grid(axis=\"y\", alpha=0.3)\n",
    "plt.tight_layout()\n",
    "plt.show()"
   ]
  },
  {
   "cell_type": "code",
   "execution_count": null,
   "id": "dcbd6c93",
   "metadata": {},
   "outputs": [],
   "source": []
  },
  {
   "cell_type": "code",
   "execution_count": null,
   "id": "c4e58057",
   "metadata": {},
   "outputs": [],
   "source": []
  },
  {
   "cell_type": "markdown",
   "id": "41b35f91",
   "metadata": {},
   "source": [
    "# Задания 50-60"
   ]
  },
  {
   "cell_type": "code",
   "execution_count": 6,
   "id": "8c0ab4c1",
   "metadata": {},
   "outputs": [
    {
     "data": {
      "text/plain": [
       "Index(['transaction_id', 'customer_id', 'card_number', 'timestamp',\n",
       "       'vendor_category', 'vendor_type', 'vendor', 'amount', 'currency',\n",
       "       'country', 'city', 'city_size', 'card_type', 'is_card_present',\n",
       "       'device', 'channel', 'device_fingerprint', 'ip_address',\n",
       "       'is_outside_home_country', 'is_high_risk_vendor', 'is_weekend',\n",
       "       'last_hour_activity', 'is_fraud'],\n",
       "      dtype='object')"
      ]
     },
     "execution_count": 6,
     "metadata": {},
     "output_type": "execute_result"
    }
   ],
   "source": [
    "df.columns"
   ]
  },
  {
   "cell_type": "code",
   "execution_count": 7,
   "id": "d944234a",
   "metadata": {},
   "outputs": [
    {
     "data": {
      "text/html": [
       "<div>\n",
       "<style scoped>\n",
       "    .dataframe tbody tr th:only-of-type {\n",
       "        vertical-align: middle;\n",
       "    }\n",
       "\n",
       "    .dataframe tbody tr th {\n",
       "        vertical-align: top;\n",
       "    }\n",
       "\n",
       "    .dataframe thead th {\n",
       "        text-align: right;\n",
       "    }\n",
       "</style>\n",
       "<table border=\"1\" class=\"dataframe\">\n",
       "  <thead>\n",
       "    <tr style=\"text-align: right;\">\n",
       "      <th></th>\n",
       "      <th>transaction_id</th>\n",
       "      <th>customer_id</th>\n",
       "      <th>card_number</th>\n",
       "      <th>timestamp</th>\n",
       "      <th>vendor_category</th>\n",
       "      <th>vendor_type</th>\n",
       "      <th>vendor</th>\n",
       "      <th>amount</th>\n",
       "      <th>currency</th>\n",
       "      <th>country</th>\n",
       "      <th>city</th>\n",
       "      <th>city_size</th>\n",
       "      <th>card_type</th>\n",
       "      <th>is_card_present</th>\n",
       "      <th>device</th>\n",
       "      <th>channel</th>\n",
       "      <th>device_fingerprint</th>\n",
       "      <th>ip_address</th>\n",
       "      <th>is_outside_home_country</th>\n",
       "      <th>is_high_risk_vendor</th>\n",
       "      <th>is_weekend</th>\n",
       "      <th>last_hour_activity</th>\n",
       "      <th>is_fraud</th>\n",
       "    </tr>\n",
       "  </thead>\n",
       "  <tbody>\n",
       "    <tr>\n",
       "      <th>0</th>\n",
       "      <td>TX_a0ad2a2a</td>\n",
       "      <td>CUST_72886</td>\n",
       "      <td>6646734767813109</td>\n",
       "      <td>2024-09-30 00:00:01.034820</td>\n",
       "      <td>Restaurant</td>\n",
       "      <td>fast_food</td>\n",
       "      <td>Taco Bell</td>\n",
       "      <td>294.87</td>\n",
       "      <td>GBP</td>\n",
       "      <td>UK</td>\n",
       "      <td>Unknown City</td>\n",
       "      <td>medium</td>\n",
       "      <td>Platinum Credit</td>\n",
       "      <td>False</td>\n",
       "      <td>iOS App</td>\n",
       "      <td>mobile</td>\n",
       "      <td>e8e6160445c935fd0001501e4cbac8bc</td>\n",
       "      <td>197.153.60.199</td>\n",
       "      <td>False</td>\n",
       "      <td>False</td>\n",
       "      <td>False</td>\n",
       "      <td>{'num_transactions': 1197, 'total_amount': 33498556.080464985, 'unique_merchants': 105, 'unique_...</td>\n",
       "      <td>False</td>\n",
       "    </tr>\n",
       "  </tbody>\n",
       "</table>\n",
       "</div>"
      ],
      "text/plain": [
       "  transaction_id customer_id       card_number                  timestamp  \\\n",
       "0    TX_a0ad2a2a  CUST_72886  6646734767813109 2024-09-30 00:00:01.034820   \n",
       "\n",
       "  vendor_category vendor_type     vendor  amount currency country  \\\n",
       "0      Restaurant   fast_food  Taco Bell  294.87      GBP      UK   \n",
       "\n",
       "           city city_size        card_type  is_card_present   device channel  \\\n",
       "0  Unknown City    medium  Platinum Credit            False  iOS App  mobile   \n",
       "\n",
       "                 device_fingerprint      ip_address  is_outside_home_country  \\\n",
       "0  e8e6160445c935fd0001501e4cbac8bc  197.153.60.199                    False   \n",
       "\n",
       "   is_high_risk_vendor  is_weekend  \\\n",
       "0                False       False   \n",
       "\n",
       "                                                                                    last_hour_activity  \\\n",
       "0  {'num_transactions': 1197, 'total_amount': 33498556.080464985, 'unique_merchants': 105, 'unique_...   \n",
       "\n",
       "   is_fraud  \n",
       "0     False  "
      ]
     },
     "execution_count": 7,
     "metadata": {},
     "output_type": "execute_result"
    }
   ],
   "source": [
    "df.head(1)"
   ]
  },
  {
   "cell_type": "code",
   "execution_count": 68,
   "id": "686477d5",
   "metadata": {},
   "outputs": [
    {
     "data": {
      "text/plain": [
       "0.19972818498066347"
      ]
     },
     "execution_count": 68,
     "metadata": {},
     "output_type": "execute_result"
    }
   ],
   "source": [
    "# 50\n",
    "df_fraud = df[df.is_fraud]\n",
    "df_fraud.shape[0] / df.shape[0]"
   ]
  },
  {
   "cell_type": "code",
   "execution_count": 13,
   "id": "c9911bc9",
   "metadata": {},
   "outputs": [
    {
     "data": {
      "text/plain": [
       "'Russia,Mexico,Brazil,Nigeria,Australia'"
      ]
     },
     "execution_count": 13,
     "metadata": {},
     "output_type": "execute_result"
    }
   ],
   "source": [
    "# 51\n",
    "\",\".join(df_fraud.country.value_counts()[:5].index)"
   ]
  },
  {
   "cell_type": "code",
   "execution_count": 14,
   "id": "1724e918",
   "metadata": {},
   "outputs": [
    {
     "data": {
      "text/plain": [
       "dtype('<M8[us]')"
      ]
     },
     "execution_count": 14,
     "metadata": {},
     "output_type": "execute_result"
    }
   ],
   "source": [
    "df.timestamp.dtype"
   ]
  },
  {
   "cell_type": "code",
   "execution_count": 18,
   "id": "5e9657f6",
   "metadata": {},
   "outputs": [
    {
     "name": "stderr",
     "output_type": "stream",
     "text": [
      "/var/folders/3w/r7v1f_z53p50ccf_m5x4mdgm0000gn/T/ipykernel_12851/795944520.py:3: FutureWarning: 'H' is deprecated and will be removed in a future version, please use 'h' instead.\n",
      "  df[\"hour\"] = df[\"timestamp\"].dt.floor(\"H\")\n"
     ]
    },
    {
     "data": {
      "text/plain": [
       "np.float64(2.4264024824921666)"
      ]
     },
     "execution_count": 18,
     "metadata": {},
     "output_type": "execute_result"
    }
   ],
   "source": [
    "# 52\n",
    "\n",
    "df[\"hour\"] = df[\"timestamp\"].dt.floor(\"H\")\n",
    "transactions_per_hour = df.groupby([\"customer_id\", \"hour\"]).size().reset_index(name=\"transaction_id\")\n",
    "avg_per_customer = transactions_per_hour.groupby(\"customer_id\")[\"transaction_id\"].mean()\n",
    "\n",
    "avg_per_customer.mean()"
   ]
  },
  {
   "cell_type": "code",
   "execution_count": 19,
   "id": "b412c058",
   "metadata": {},
   "outputs": [
    {
     "data": {
      "text/plain": [
       "np.float64(0.19998632451602943)"
      ]
     },
     "execution_count": 19,
     "metadata": {},
     "output_type": "execute_result"
    }
   ],
   "source": [
    "# 53\n",
    "hr_df = df[df.is_high_risk_vendor]\n",
    "hr_df.is_fraud.sum() / hr_df.shape[0]"
   ]
  },
  {
   "cell_type": "code",
   "execution_count": 24,
   "id": "1824cb72",
   "metadata": {},
   "outputs": [
    {
     "data": {
      "text/html": [
       "<div>\n",
       "<style scoped>\n",
       "    .dataframe tbody tr th:only-of-type {\n",
       "        vertical-align: middle;\n",
       "    }\n",
       "\n",
       "    .dataframe tbody tr th {\n",
       "        vertical-align: top;\n",
       "    }\n",
       "\n",
       "    .dataframe thead th {\n",
       "        text-align: right;\n",
       "    }\n",
       "</style>\n",
       "<table border=\"1\" class=\"dataframe\">\n",
       "  <thead>\n",
       "    <tr style=\"text-align: right;\">\n",
       "      <th></th>\n",
       "      <th>amount</th>\n",
       "    </tr>\n",
       "    <tr>\n",
       "      <th>city</th>\n",
       "      <th></th>\n",
       "    </tr>\n",
       "  </thead>\n",
       "  <tbody>\n",
       "    <tr>\n",
       "      <th>Unknown City</th>\n",
       "      <td>51315.780071</td>\n",
       "    </tr>\n",
       "    <tr>\n",
       "      <th>New York</th>\n",
       "      <td>568.872467</td>\n",
       "    </tr>\n",
       "    <tr>\n",
       "      <th>San Antonio</th>\n",
       "      <td>567.921894</td>\n",
       "    </tr>\n",
       "    <tr>\n",
       "      <th>San Jose</th>\n",
       "      <td>567.263760</td>\n",
       "    </tr>\n",
       "    <tr>\n",
       "      <th>Phoenix</th>\n",
       "      <td>565.730142</td>\n",
       "    </tr>\n",
       "    <tr>\n",
       "      <th>San Diego</th>\n",
       "      <td>565.593140</td>\n",
       "    </tr>\n",
       "    <tr>\n",
       "      <th>Chicago</th>\n",
       "      <td>565.277374</td>\n",
       "    </tr>\n",
       "    <tr>\n",
       "      <th>Houston</th>\n",
       "      <td>564.961388</td>\n",
       "    </tr>\n",
       "    <tr>\n",
       "      <th>Los Angeles</th>\n",
       "      <td>563.900769</td>\n",
       "    </tr>\n",
       "    <tr>\n",
       "      <th>Philadelphia</th>\n",
       "      <td>563.464431</td>\n",
       "    </tr>\n",
       "    <tr>\n",
       "      <th>Dallas</th>\n",
       "      <td>562.399533</td>\n",
       "    </tr>\n",
       "  </tbody>\n",
       "</table>\n",
       "</div>"
      ],
      "text/plain": [
       "                    amount\n",
       "city                      \n",
       "Unknown City  51315.780071\n",
       "New York        568.872467\n",
       "San Antonio     567.921894\n",
       "San Jose        567.263760\n",
       "Phoenix         565.730142\n",
       "San Diego       565.593140\n",
       "Chicago         565.277374\n",
       "Houston         564.961388\n",
       "Los Angeles     563.900769\n",
       "Philadelphia    563.464431\n",
       "Dallas          562.399533"
      ]
     },
     "execution_count": 24,
     "metadata": {},
     "output_type": "execute_result"
    }
   ],
   "source": [
    "# 54\n",
    "df.groupby(\"city\").agg({\"amount\": \"mean\"}).sort_values(by=\"amount\", ascending=False)"
   ]
  },
  {
   "cell_type": "code",
   "execution_count": null,
   "id": "2a29a6a6",
   "metadata": {},
   "outputs": [
    {
     "data": {
      "text/html": [
       "<div>\n",
       "<style scoped>\n",
       "    .dataframe tbody tr th:only-of-type {\n",
       "        vertical-align: middle;\n",
       "    }\n",
       "\n",
       "    .dataframe tbody tr th {\n",
       "        vertical-align: top;\n",
       "    }\n",
       "\n",
       "    .dataframe thead th {\n",
       "        text-align: right;\n",
       "    }\n",
       "</style>\n",
       "<table border=\"1\" class=\"dataframe\">\n",
       "  <thead>\n",
       "    <tr style=\"text-align: right;\">\n",
       "      <th></th>\n",
       "      <th>amount</th>\n",
       "    </tr>\n",
       "    <tr>\n",
       "      <th>city</th>\n",
       "      <th></th>\n",
       "    </tr>\n",
       "  </thead>\n",
       "  <tbody>\n",
       "    <tr>\n",
       "      <th>Unknown City</th>\n",
       "      <td>15214.407916</td>\n",
       "    </tr>\n",
       "    <tr>\n",
       "      <th>Chicago</th>\n",
       "      <td>264.450281</td>\n",
       "    </tr>\n",
       "    <tr>\n",
       "      <th>New York</th>\n",
       "      <td>263.296441</td>\n",
       "    </tr>\n",
       "    <tr>\n",
       "      <th>San Antonio</th>\n",
       "      <td>258.169691</td>\n",
       "    </tr>\n",
       "    <tr>\n",
       "      <th>Los Angeles</th>\n",
       "      <td>255.950324</td>\n",
       "    </tr>\n",
       "    <tr>\n",
       "      <th>San Diego</th>\n",
       "      <td>254.343884</td>\n",
       "    </tr>\n",
       "    <tr>\n",
       "      <th>Dallas</th>\n",
       "      <td>248.685716</td>\n",
       "    </tr>\n",
       "    <tr>\n",
       "      <th>San Jose</th>\n",
       "      <td>247.892502</td>\n",
       "    </tr>\n",
       "    <tr>\n",
       "      <th>Houston</th>\n",
       "      <td>246.913137</td>\n",
       "    </tr>\n",
       "    <tr>\n",
       "      <th>Philadelphia</th>\n",
       "      <td>243.440463</td>\n",
       "    </tr>\n",
       "    <tr>\n",
       "      <th>Phoenix</th>\n",
       "      <td>242.334715</td>\n",
       "    </tr>\n",
       "  </tbody>\n",
       "</table>\n",
       "</div>"
      ],
      "text/plain": [
       "                    amount\n",
       "city                      \n",
       "Unknown City  15214.407916\n",
       "Chicago         264.450281\n",
       "New York        263.296441\n",
       "San Antonio     258.169691\n",
       "Los Angeles     255.950324\n",
       "San Diego       254.343884\n",
       "Dallas          248.685716\n",
       "San Jose        247.892502\n",
       "Houston         246.913137\n",
       "Philadelphia    243.440463\n",
       "Phoenix         242.334715"
      ]
     },
     "execution_count": 25,
     "metadata": {},
     "output_type": "execute_result"
    }
   ],
   "source": [
    "# 55\n",
    "df[df.vendor_type==\"fast_food\"].groupby(\"city\").agg({\"amount\": \"mean\"}).sort_values(by=\"amount\", ascending=False)"
   ]
  },
  {
   "cell_type": "code",
   "execution_count": null,
   "id": "5969d2bd",
   "metadata": {},
   "outputs": [],
   "source": [
    "cur_exc = pd.read_parquet(\"historical_currency_exchange.parquet\")\n",
    "cur_exc = cur_exc.melt(id_vars=\"date\", var_name=\"currency\")\n",
    "cur_exc"
   ]
  },
  {
   "cell_type": "code",
   "execution_count": null,
   "id": "383d0eee",
   "metadata": {},
   "outputs": [
    {
     "data": {
      "text/html": [
       "<div>\n",
       "<style scoped>\n",
       "    .dataframe tbody tr th:only-of-type {\n",
       "        vertical-align: middle;\n",
       "    }\n",
       "\n",
       "    .dataframe tbody tr th {\n",
       "        vertical-align: top;\n",
       "    }\n",
       "\n",
       "    .dataframe thead th {\n",
       "        text-align: right;\n",
       "    }\n",
       "</style>\n",
       "<table border=\"1\" class=\"dataframe\">\n",
       "  <thead>\n",
       "    <tr style=\"text-align: right;\">\n",
       "      <th></th>\n",
       "      <th>transaction_id</th>\n",
       "      <th>customer_id</th>\n",
       "      <th>card_number</th>\n",
       "      <th>timestamp</th>\n",
       "      <th>vendor_category</th>\n",
       "      <th>vendor_type</th>\n",
       "      <th>vendor</th>\n",
       "      <th>amount</th>\n",
       "      <th>currency</th>\n",
       "      <th>country</th>\n",
       "      <th>city</th>\n",
       "      <th>city_size</th>\n",
       "      <th>card_type</th>\n",
       "      <th>is_card_present</th>\n",
       "      <th>device</th>\n",
       "      <th>channel</th>\n",
       "      <th>device_fingerprint</th>\n",
       "      <th>ip_address</th>\n",
       "      <th>is_outside_home_country</th>\n",
       "      <th>is_high_risk_vendor</th>\n",
       "      <th>is_weekend</th>\n",
       "      <th>last_hour_activity</th>\n",
       "      <th>is_fraud</th>\n",
       "      <th>hour</th>\n",
       "      <th>date</th>\n",
       "      <th>value</th>\n",
       "      <th>in_usd</th>\n",
       "    </tr>\n",
       "  </thead>\n",
       "  <tbody>\n",
       "    <tr>\n",
       "      <th>2577072</th>\n",
       "      <td>TX_7e649a2d</td>\n",
       "      <td>CUST_49001</td>\n",
       "      <td>4882661418880724</td>\n",
       "      <td>2024-10-10 16:49:02.874783</td>\n",
       "      <td>Education</td>\n",
       "      <td>online</td>\n",
       "      <td>MasterClass</td>\n",
       "      <td>323.95</td>\n",
       "      <td>GBP</td>\n",
       "      <td>UK</td>\n",
       "      <td>Unknown City</td>\n",
       "      <td>medium</td>\n",
       "      <td>Premium Debit</td>\n",
       "      <td>False</td>\n",
       "      <td>Chrome</td>\n",
       "      <td>web</td>\n",
       "      <td>406ccc9e3bbe8903cb488e455d079a17</td>\n",
       "      <td>73.143.235.201</td>\n",
       "      <td>False</td>\n",
       "      <td>False</td>\n",
       "      <td>False</td>\n",
       "      <td>{'num_transactions': 1015, 'total_amount': 52988365.17738855, 'unique_merchants': 105, 'unique_c...</td>\n",
       "      <td>False</td>\n",
       "      <td>2024-10-10 16:00:00</td>\n",
       "      <td>2024-10-10</td>\n",
       "      <td>0.764894</td>\n",
       "      <td>423.522648</td>\n",
       "    </tr>\n",
       "    <tr>\n",
       "      <th>3791094</th>\n",
       "      <td>TX_71bbfe0f</td>\n",
       "      <td>CUST_67872</td>\n",
       "      <td>6530338597581032</td>\n",
       "      <td>2024-10-15 17:18:56.647874</td>\n",
       "      <td>Healthcare</td>\n",
       "      <td>medical</td>\n",
       "      <td>Local Hospital</td>\n",
       "      <td>132889.53</td>\n",
       "      <td>RUB</td>\n",
       "      <td>Russia</td>\n",
       "      <td>Unknown City</td>\n",
       "      <td>medium</td>\n",
       "      <td>Basic Credit</td>\n",
       "      <td>False</td>\n",
       "      <td>Chrome</td>\n",
       "      <td>web</td>\n",
       "      <td>a24f00659de0f1352a83505145d54732</td>\n",
       "      <td>143.67.186.161</td>\n",
       "      <td>True</td>\n",
       "      <td>False</td>\n",
       "      <td>False</td>\n",
       "      <td>{'num_transactions': 710, 'total_amount': 17498950.00152343, 'unique_merchants': 105, 'unique_co...</td>\n",
       "      <td>True</td>\n",
       "      <td>2024-10-15 17:00:00</td>\n",
       "      <td>2024-10-15</td>\n",
       "      <td>95.165613</td>\n",
       "      <td>1396.402813</td>\n",
       "    </tr>\n",
       "  </tbody>\n",
       "</table>\n",
       "</div>"
      ],
      "text/plain": [
       "        transaction_id customer_id       card_number  \\\n",
       "2577072    TX_7e649a2d  CUST_49001  4882661418880724   \n",
       "3791094    TX_71bbfe0f  CUST_67872  6530338597581032   \n",
       "\n",
       "                         timestamp vendor_category vendor_type  \\\n",
       "2577072 2024-10-10 16:49:02.874783       Education      online   \n",
       "3791094 2024-10-15 17:18:56.647874      Healthcare     medical   \n",
       "\n",
       "                 vendor     amount currency country          city city_size  \\\n",
       "2577072     MasterClass     323.95      GBP      UK  Unknown City    medium   \n",
       "3791094  Local Hospital  132889.53      RUB  Russia  Unknown City    medium   \n",
       "\n",
       "             card_type  is_card_present  device channel  \\\n",
       "2577072  Premium Debit            False  Chrome     web   \n",
       "3791094   Basic Credit            False  Chrome     web   \n",
       "\n",
       "                       device_fingerprint      ip_address  \\\n",
       "2577072  406ccc9e3bbe8903cb488e455d079a17  73.143.235.201   \n",
       "3791094  a24f00659de0f1352a83505145d54732  143.67.186.161   \n",
       "\n",
       "         is_outside_home_country  is_high_risk_vendor  is_weekend  \\\n",
       "2577072                    False                False       False   \n",
       "3791094                     True                False       False   \n",
       "\n",
       "                                                                                          last_hour_activity  \\\n",
       "2577072  {'num_transactions': 1015, 'total_amount': 52988365.17738855, 'unique_merchants': 105, 'unique_c...   \n",
       "3791094  {'num_transactions': 710, 'total_amount': 17498950.00152343, 'unique_merchants': 105, 'unique_co...   \n",
       "\n",
       "         is_fraud                hour        date      value       in_usd  \n",
       "2577072     False 2024-10-10 16:00:00  2024-10-10   0.764894   423.522648  \n",
       "3791094      True 2024-10-15 17:00:00  2024-10-15  95.165613  1396.402813  "
      ]
     },
     "execution_count": 49,
     "metadata": {},
     "output_type": "execute_result"
    }
   ],
   "source": [
    "df[\"date\"] = df.timestamp.dt.date\n",
    "df_ = df.merge(\n",
    "    cur_exc,\n",
    "    how=\"left\",\n",
    "    on=[\"date\", \"currency\"],\n",
    ")\n",
    "df_[\"in_usd\"] = df_.amount / df_.value\n",
    "df_.sample(2)"
   ]
  },
  {
   "cell_type": "code",
   "execution_count": 50,
   "id": "9e642cdc",
   "metadata": {},
   "outputs": [
    {
     "data": {
      "text/plain": [
       "np.float64(459.7826108501773)"
      ]
     },
     "execution_count": 50,
     "metadata": {},
     "output_type": "execute_result"
    }
   ],
   "source": [
    "# 56\n",
    "df_[~df_.is_fraud].in_usd.mean()"
   ]
  },
  {
   "cell_type": "code",
   "execution_count": 51,
   "id": "1c0b0fd5",
   "metadata": {},
   "outputs": [
    {
     "data": {
      "text/plain": [
       "np.float64(417.0077334756039)"
      ]
     },
     "execution_count": 51,
     "metadata": {},
     "output_type": "execute_result"
    }
   ],
   "source": [
    "# 57\n",
    "df_[~df_.is_fraud].in_usd.std()"
   ]
  },
  {
   "cell_type": "code",
   "execution_count": 52,
   "id": "25122244",
   "metadata": {},
   "outputs": [
    {
     "data": {
      "text/plain": [
       "np.float64(874.6067503080814)"
      ]
     },
     "execution_count": 52,
     "metadata": {},
     "output_type": "execute_result"
    }
   ],
   "source": [
    "# 58\n",
    "df_[df_.is_fraud].in_usd.mean()"
   ]
  },
  {
   "cell_type": "code",
   "execution_count": 53,
   "id": "57dee177",
   "metadata": {},
   "outputs": [
    {
     "data": {
      "text/plain": [
       "np.float64(1349.882692206744)"
      ]
     },
     "execution_count": 53,
     "metadata": {},
     "output_type": "execute_result"
    }
   ],
   "source": [
    "# 59\n",
    "df_[df_.is_fraud].in_usd.std()"
   ]
  },
  {
   "cell_type": "code",
   "execution_count": 55,
   "id": "6420cbf0",
   "metadata": {},
   "outputs": [
    {
     "name": "stderr",
     "output_type": "stream",
     "text": [
      "/var/folders/3w/r7v1f_z53p50ccf_m5x4mdgm0000gn/T/ipykernel_12851/3178351935.py:4: FutureWarning: 'H' is deprecated and will be removed in a future version, please use 'h' instead.\n",
      "  df.groupby([\"customer_id\", pd.Grouper(key=\"timestamp\", freq=\"H\")])\n"
     ]
    },
    {
     "data": {
      "text/plain": [
       "100"
      ]
     },
     "execution_count": 55,
     "metadata": {},
     "output_type": "execute_result"
    }
   ],
   "source": [
    "# 60\n",
    "\n",
    "hourly_unique_merchants = (\n",
    "    df.groupby([\"customer_id\", pd.Grouper(key=\"timestamp\", freq=\"H\")])\n",
    "    ['vendor'].nunique()\n",
    "    .reset_index(name=\"unique_merchants\")\n",
    ")\n",
    "\n",
    "median_per_customer = (\n",
    "    hourly_unique_merchants.groupby(\"customer_id\")[\"unique_merchants\"]\n",
    "    .median()\n",
    "    .reset_index(name=\"median_unique_merchants\")\n",
    ")\n",
    "\n",
    "threshold = median_per_customer[\"median_unique_merchants\"].quantile(0.95)\n",
    "dangerous_customers = median_per_customer[median_per_customer[\"median_unique_merchants\"] > threshold]\n",
    "\n",
    "len(dangerous_customers)"
   ]
  }
 ],
 "metadata": {
  "kernelspec": {
   "display_name": "venv",
   "language": "python",
   "name": "python3"
  },
  "language_info": {
   "codemirror_mode": {
    "name": "ipython",
    "version": 3
   },
   "file_extension": ".py",
   "mimetype": "text/x-python",
   "name": "python",
   "nbconvert_exporter": "python",
   "pygments_lexer": "ipython3",
   "version": "3.12.6"
  }
 },
 "nbformat": 4,
 "nbformat_minor": 5
}
